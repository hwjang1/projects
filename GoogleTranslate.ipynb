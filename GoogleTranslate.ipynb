{
 "cells": [
  {
   "cell_type": "code",
   "execution_count": 1,
   "metadata": {},
   "outputs": [],
   "source": [
    "import json\n",
    "from functools import partial\n",
    "from multiprocessing import Pool\n",
    "import pandas as pd\n",
    "import pymysql\n",
    "import requests\n",
    "from tqdm.auto import tqdm"
   ]
  },
  {
   "cell_type": "code",
   "execution_count": 2,
   "metadata": {},
   "outputs": [],
   "source": [
    "def translate(query):\n",
    "    data = {\n",
    "        'q': query,\n",
    "        'target': 'fr',\n",
    "        'format': 'text',\n",
    "        'source': 'en'\n",
    "    }\n",
    "    try:\n",
    "        response = requests.post('https://translation.googleapis.com/language/translate/v2?key=', data=json.dumps(data))\n",
    "        if response.status_code == 200:\n",
    "            return [response.json()['data']['translations'][0]['translatedText'], query]\n",
    "        return ['ERROR', query]\n",
    "    except Exception as ex:\n",
    "        print(str(ex))\n",
    "        return ['EXCEPT', query]"
   ]
  },
  {
   "cell_type": "code",
   "execution_count": 3,
   "metadata": {},
   "outputs": [],
   "source": [
    "def translate_list():\n",
    "    conn = pymysql.connect(host='192.168.1.44', port=3306, user='euclidlab', passwd='1q2w3e4r!', db='vqa_france',\n",
    "                           charset='utf8', autocommit=True)\n",
    "    with conn.cursor() as curs:\n",
    "        sql = \"\"\"\n",
    "select distinct a.en\n",
    "from (select answer as en\n",
    "      from data_answer\n",
    "      where data_answer.answer_kor is null) a\n",
    "where not exists(\n",
    "    select 1 from translate_word b where a.en = b.en\n",
    "  )\n",
    "        \"\"\"\n",
    "        curs.execute(sql)\n",
    "        return curs.fetchall()"
   ]
  },
  {
   "cell_type": "code",
   "execution_count": 4,
   "metadata": {},
   "outputs": [],
   "source": [
    "def translate_insert(ko, en):\n",
    "    conn = pymysql.connect(host='192.168.1.44', port=3306, user='euclidlab', passwd='1q2w3e4r!', db='vqa_france',\n",
    "                           charset='utf8', autocommit=True)\n",
    "    with conn.cursor() as curs:\n",
    "        sql = \"insert into translate_word(ko, en) values (%s, %s)\"\n",
    "        curs.execute(sql, (ko, en))"
   ]
  },
  {
   "cell_type": "code",
   "execution_count": 5,
   "metadata": {},
   "outputs": [],
   "source": [
    "dup_questions = pd.DataFrame(translate_list(), columns=['en'])"
   ]
  },
  {
   "cell_type": "code",
   "execution_count": 6,
   "metadata": {},
   "outputs": [
    {
     "data": {
      "text/html": [
       "<div>\n",
       "<style scoped>\n",
       "    .dataframe tbody tr th:only-of-type {\n",
       "        vertical-align: middle;\n",
       "    }\n",
       "\n",
       "    .dataframe tbody tr th {\n",
       "        vertical-align: top;\n",
       "    }\n",
       "\n",
       "    .dataframe thead th {\n",
       "        text-align: right;\n",
       "    }\n",
       "</style>\n",
       "<table border=\"1\" class=\"dataframe\">\n",
       "  <thead>\n",
       "    <tr style=\"text-align: right;\">\n",
       "      <th></th>\n",
       "      <th>en</th>\n",
       "    </tr>\n",
       "  </thead>\n",
       "  <tbody>\n",
       "    <tr>\n",
       "      <th>0</th>\n",
       "      <td>semi circle</td>\n",
       "    </tr>\n",
       "    <tr>\n",
       "      <th>1</th>\n",
       "      <td>double curve</td>\n",
       "    </tr>\n",
       "    <tr>\n",
       "      <th>2</th>\n",
       "      <td>twisting</td>\n",
       "    </tr>\n",
       "    <tr>\n",
       "      <th>3</th>\n",
       "      <td>i have no idea</td>\n",
       "    </tr>\n",
       "    <tr>\n",
       "      <th>4</th>\n",
       "      <td>;photo</td>\n",
       "    </tr>\n",
       "    <tr>\n",
       "      <th>...</th>\n",
       "      <td>...</td>\n",
       "    </tr>\n",
       "    <tr>\n",
       "      <th>111657</th>\n",
       "      <td>13 +</td>\n",
       "    </tr>\n",
       "    <tr>\n",
       "      <th>111658</th>\n",
       "      <td>at bicycle stand</td>\n",
       "    </tr>\n",
       "    <tr>\n",
       "      <th>111659</th>\n",
       "      <td>question-mark</td>\n",
       "    </tr>\n",
       "    <tr>\n",
       "      <th>111660</th>\n",
       "      <td>bottom rim</td>\n",
       "    </tr>\n",
       "    <tr>\n",
       "      <th>111661</th>\n",
       "      <td>half rim</td>\n",
       "    </tr>\n",
       "  </tbody>\n",
       "</table>\n",
       "<p>111662 rows × 1 columns</p>\n",
       "</div>"
      ],
      "text/plain": [
       "                      en\n",
       "0            semi circle\n",
       "1           double curve\n",
       "2               twisting\n",
       "3         i have no idea\n",
       "4                 ;photo\n",
       "...                  ...\n",
       "111657              13 +\n",
       "111658  at bicycle stand\n",
       "111659     question-mark\n",
       "111660        bottom rim\n",
       "111661          half rim\n",
       "\n",
       "[111662 rows x 1 columns]"
      ]
     },
     "execution_count": 6,
     "metadata": {},
     "output_type": "execute_result"
    }
   ],
   "source": [
    "dup_questions"
   ]
  },
  {
   "cell_type": "code",
   "execution_count": null,
   "metadata": {},
   "outputs": [
    {
     "data": {
      "application/vnd.jupyter.widget-view+json": {
       "model_id": "d6a3428fa02144b4b6a0aed27be5de6c",
       "version_major": 2,
       "version_minor": 0
      },
      "text/plain": [
       "HBox(children=(FloatProgress(value=0.0, max=111662.0), HTML(value='')))"
      ]
     },
     "metadata": {},
     "output_type": "display_data"
    }
   ],
   "source": [
    "with Pool(8) as pool:\n",
    "    result = list(tqdm(pool.imap(\n",
    "        func=partial(translate),\n",
    "        iterable=dup_questions['en']\n",
    "    ), total=len(dup_questions['en'])))\n",
    "    pool.close()\n",
    "    pool.join()"
   ]
  },
  {
   "cell_type": "code",
   "execution_count": null,
   "metadata": {},
   "outputs": [],
   "source": [
    "#translate('Is there a shadow?', 'en', 'fr', False)"
   ]
  },
  {
   "cell_type": "code",
   "execution_count": null,
   "metadata": {},
   "outputs": [],
   "source": [
    "for idx, row in enumerate(result):\n",
    "    ko = row[0]\n",
    "    en = row[1]\n",
    "\n",
    "    translate_insert(ko, en)"
   ]
  }
 ],
 "metadata": {
  "kernelspec": {
   "display_name": "Python 3",
   "language": "python",
   "name": "python3"
  },
  "language_info": {
   "codemirror_mode": {
    "name": "ipython",
    "version": 3
   },
   "file_extension": ".py",
   "mimetype": "text/x-python",
   "name": "python",
   "nbconvert_exporter": "python",
   "pygments_lexer": "ipython3",
   "version": "3.8.5"
  }
 },
 "nbformat": 4,
 "nbformat_minor": 4
}
