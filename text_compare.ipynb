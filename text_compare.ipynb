{
 "cells": [
  {
   "cell_type": "code",
   "execution_count": 62,
   "metadata": {},
   "outputs": [
    {
     "name": "stdout",
     "output_type": "stream",
     "text": [
      "Requirement already satisfied: konlpy in c:\\users\\hyunw\\anaconda3\\lib\\site-packages (0.5.2)\n",
      "Requirement already satisfied: numpy>=1.6 in c:\\users\\hyunw\\anaconda3\\lib\\site-packages (from konlpy) (1.18.5)\n",
      "Requirement already satisfied: lxml>=4.1.0 in c:\\users\\hyunw\\anaconda3\\lib\\site-packages (from konlpy) (4.5.2)\n",
      "Requirement already satisfied: beautifulsoup4==4.6.0 in c:\\users\\hyunw\\anaconda3\\lib\\site-packages (from konlpy) (4.6.0)\n",
      "Requirement already satisfied: tweepy>=3.7.0 in c:\\users\\hyunw\\anaconda3\\lib\\site-packages (from konlpy) (3.9.0)\n",
      "Requirement already satisfied: colorama in c:\\users\\hyunw\\anaconda3\\lib\\site-packages (from konlpy) (0.4.3)\n",
      "Requirement already satisfied: JPype1>=0.7.0 in c:\\users\\hyunw\\anaconda3\\lib\\site-packages (from konlpy) (1.0.2)\n",
      "Requirement already satisfied: requests-oauthlib>=0.7.0 in c:\\users\\hyunw\\anaconda3\\lib\\site-packages (from tweepy>=3.7.0->konlpy) (1.3.0)\n",
      "Requirement already satisfied: six>=1.10.0 in c:\\users\\hyunw\\anaconda3\\lib\\site-packages (from tweepy>=3.7.0->konlpy) (1.15.0)\n",
      "Requirement already satisfied: requests[socks]>=2.11.1 in c:\\users\\hyunw\\anaconda3\\lib\\site-packages (from tweepy>=3.7.0->konlpy) (2.24.0)\n",
      "Requirement already satisfied: oauthlib>=3.0.0 in c:\\users\\hyunw\\anaconda3\\lib\\site-packages (from requests-oauthlib>=0.7.0->tweepy>=3.7.0->konlpy) (3.1.0)\n",
      "Requirement already satisfied: chardet<4,>=3.0.2 in c:\\users\\hyunw\\anaconda3\\lib\\site-packages (from requests[socks]>=2.11.1->tweepy>=3.7.0->konlpy) (3.0.4)\n",
      "Requirement already satisfied: idna<3,>=2.5 in c:\\users\\hyunw\\anaconda3\\lib\\site-packages (from requests[socks]>=2.11.1->tweepy>=3.7.0->konlpy) (2.10)\n",
      "Requirement already satisfied: urllib3!=1.25.0,!=1.25.1,<1.26,>=1.21.1 in c:\\users\\hyunw\\anaconda3\\lib\\site-packages (from requests[socks]>=2.11.1->tweepy>=3.7.0->konlpy) (1.25.9)\n",
      "Requirement already satisfied: certifi>=2017.4.17 in c:\\users\\hyunw\\anaconda3\\lib\\site-packages (from requests[socks]>=2.11.1->tweepy>=3.7.0->konlpy) (2020.6.20)\n",
      "Requirement already satisfied: PySocks!=1.5.7,>=1.5.6; extra == \"socks\" in c:\\users\\hyunw\\anaconda3\\lib\\site-packages (from requests[socks]>=2.11.1->tweepy>=3.7.0->konlpy) (1.7.1)\n",
      "Requirement already satisfied: JPype1 in c:\\users\\hyunw\\anaconda3\\lib\\site-packages (1.0.2)\n",
      "Requirement already satisfied: scikit-learn in c:\\users\\hyunw\\anaconda3\\lib\\site-packages (0.23.1)\n",
      "Requirement already satisfied: numpy>=1.13.3 in c:\\users\\hyunw\\anaconda3\\lib\\site-packages (from scikit-learn) (1.18.5)\n",
      "Requirement already satisfied: threadpoolctl>=2.0.0 in c:\\users\\hyunw\\anaconda3\\lib\\site-packages (from scikit-learn) (2.1.0)\n",
      "Requirement already satisfied: scipy>=0.19.1 in c:\\users\\hyunw\\anaconda3\\lib\\site-packages (from scikit-learn) (1.5.0)\n",
      "Requirement already satisfied: joblib>=0.11 in c:\\users\\hyunw\\anaconda3\\lib\\site-packages (from scikit-learn) (0.16.0)\n",
      "Requirement already satisfied: scipy in c:\\users\\hyunw\\anaconda3\\lib\\site-packages (1.5.0)\n",
      "Requirement already satisfied: numpy>=1.14.5 in c:\\users\\hyunw\\anaconda3\\lib\\site-packages (from scipy) (1.18.5)\n",
      "Collecting pymysql\n",
      "  Downloading PyMySQL-0.10.0-py2.py3-none-any.whl (47 kB)\n",
      "Installing collected packages: pymysql\n",
      "Successfully installed pymysql-0.10.0\n"
     ]
    }
   ],
   "source": [
    "!pip3 install konlpy\n",
    "!pip3 install JPype1\n",
    "!pip3 install scikit-learn \n",
    "!pip3 install scipy \n",
    "!pip3 install pymysql"
   ]
  },
  {
   "cell_type": "code",
   "execution_count": 72,
   "metadata": {},
   "outputs": [],
   "source": [
    "from konlpy.tag import Kkma\n",
    "from konlpy.utils import pprint\n",
    "from sklearn.feature_extraction.text import TfidfVectorizer\n",
    "from sklearn.metrics.pairwise import cosine_similarity\n",
    "import pymysql\n",
    "import pandas as pd"
   ]
  },
  {
   "cell_type": "code",
   "execution_count": 69,
   "metadata": {},
   "outputs": [],
   "source": [
    "db = pymysql.connect(host = '#####', port=3306, user='#####', passwd='#####', db='#####', charset='utf8', autocommit=True)\n",
    "cursor = db.cursor()\n",
    "cursor.execute(\"select question_kor, origin_question_kor from data_question a where a.origin_question_kor != a.question_kor and a.approval = 3\")\n",
    "db_list = cursor.fetchall()"
   ]
  },
  {
   "cell_type": "code",
   "execution_count": 73,
   "metadata": {},
   "outputs": [],
   "source": [
    "df_list = pd.DataFrame(db_list, columns=['kor', 'org_kor'])"
   ]
  },
  {
   "cell_type": "code",
   "execution_count": 74,
   "metadata": {},
   "outputs": [
    {
     "data": {
      "text/html": [
       "<div>\n",
       "<style scoped>\n",
       "    .dataframe tbody tr th:only-of-type {\n",
       "        vertical-align: middle;\n",
       "    }\n",
       "\n",
       "    .dataframe tbody tr th {\n",
       "        vertical-align: top;\n",
       "    }\n",
       "\n",
       "    .dataframe thead th {\n",
       "        text-align: right;\n",
       "    }\n",
       "</style>\n",
       "<table border=\"1\" class=\"dataframe\">\n",
       "  <thead>\n",
       "    <tr style=\"text-align: right;\">\n",
       "      <th></th>\n",
       "      <th>kor</th>\n",
       "      <th>org_kor</th>\n",
       "    </tr>\n",
       "  </thead>\n",
       "  <tbody>\n",
       "    <tr>\n",
       "      <th>0</th>\n",
       "      <td>사람의 모자는 어떤 색입니까?</td>\n",
       "      <td>사람들의 모자는 어떤 색입니까?</td>\n",
       "    </tr>\n",
       "    <tr>\n",
       "      <th>1</th>\n",
       "      <td>개가 무엇을 보고 있습니까?</td>\n",
       "      <td>개가 테니스 공이나 프리즈 비를보고 있습니까?</td>\n",
       "    </tr>\n",
       "    <tr>\n",
       "      <th>2</th>\n",
       "      <td>하늘이 파랗습니까?</td>\n",
       "      <td>하늘색입니까?</td>\n",
       "    </tr>\n",
       "    <tr>\n",
       "      <th>3</th>\n",
       "      <td>그녀는 양치를 하고 있습니까?</td>\n",
       "      <td>그녀는 솔질하고 있습니까?</td>\n",
       "    </tr>\n",
       "    <tr>\n",
       "      <th>4</th>\n",
       "      <td>남자가 웃고 있습니까?</td>\n",
       "      <td>남자가 웃고 있니?</td>\n",
       "    </tr>\n",
       "    <tr>\n",
       "      <th>...</th>\n",
       "      <td>...</td>\n",
       "      <td>...</td>\n",
       "    </tr>\n",
       "    <tr>\n",
       "      <th>539949</th>\n",
       "      <td>거리에 주황색과 흰색을 가진 원뿔이 있는 이유는 무엇입니까?</td>\n",
       "      <td>거리에 주황색과 흰색 원뿔이있는 이유는 무엇입니까?</td>\n",
       "    </tr>\n",
       "    <tr>\n",
       "      <th>539950</th>\n",
       "      <td>노란색 표지판에는 어떤 방향이 보입니까?</td>\n",
       "      <td>노란색 표시는 어떤 방향으로 제공됩니까?</td>\n",
       "    </tr>\n",
       "    <tr>\n",
       "      <th>539951</th>\n",
       "      <td>거리에 무슨 일이 일어나고 있습니까?</td>\n",
       "      <td>거리에 무엇입니까?</td>\n",
       "    </tr>\n",
       "    <tr>\n",
       "      <th>539952</th>\n",
       "      <td>그가 이것을 먹기 위해 입을 크게 벌려야 합니까?</td>\n",
       "      <td>그가 이것을 먹기 위해 넓게 입을 열어야합니까?</td>\n",
       "    </tr>\n",
       "    <tr>\n",
       "      <th>539953</th>\n",
       "      <td>몇명이 헬멧을 쓰고 있습니까?</td>\n",
       "      <td>얼마나 많은 헬멧을 쓰고 있습니까?</td>\n",
       "    </tr>\n",
       "  </tbody>\n",
       "</table>\n",
       "<p>539954 rows × 2 columns</p>\n",
       "</div>"
      ],
      "text/plain": [
       "                                      kor                       org_kor\n",
       "0                        사람의 모자는 어떤 색입니까?             사람들의 모자는 어떤 색입니까?\n",
       "1                         개가 무엇을 보고 있습니까?     개가 테니스 공이나 프리즈 비를보고 있습니까?\n",
       "2                              하늘이 파랗습니까?                       하늘색입니까?\n",
       "3                        그녀는 양치를 하고 있습니까?                그녀는 솔질하고 있습니까?\n",
       "4                            남자가 웃고 있습니까?                    남자가 웃고 있니?\n",
       "...                                   ...                           ...\n",
       "539949  거리에 주황색과 흰색을 가진 원뿔이 있는 이유는 무엇입니까?  거리에 주황색과 흰색 원뿔이있는 이유는 무엇입니까?\n",
       "539950             노란색 표지판에는 어떤 방향이 보입니까?        노란색 표시는 어떤 방향으로 제공됩니까?\n",
       "539951               거리에 무슨 일이 일어나고 있습니까?                    거리에 무엇입니까?\n",
       "539952        그가 이것을 먹기 위해 입을 크게 벌려야 합니까?    그가 이것을 먹기 위해 넓게 입을 열어야합니까?\n",
       "539953                   몇명이 헬멧을 쓰고 있습니까?           얼마나 많은 헬멧을 쓰고 있습니까?\n",
       "\n",
       "[539954 rows x 2 columns]"
      ]
     },
     "execution_count": 74,
     "metadata": {},
     "output_type": "execute_result"
    }
   ],
   "source": [
    "df_list"
   ]
  },
  {
   "cell_type": "code",
   "execution_count": 106,
   "metadata": {},
   "outputs": [
    {
     "name": "stdout",
     "output_type": "stream",
     "text": [
      "사람의 모자는 어떤 색입니까?/사람들의 모자는 어떤 색입니까? = 0.6029748160380572\n",
      "개가 무엇을 보고 있습니까?/개가 테니스 공이나 프리즈 비를보고 있습니까? = 0.26055567105626243\n",
      "하늘이 파랗습니까?/하늘색입니까? = 0.0\n",
      "그녀는 양치를 하고 있습니까?/그녀는 솔질하고 있습니까? = 0.4112070550676187\n",
      "남자가 웃고 있습니까?/남자가 웃고 있니? = 0.5031026124151314\n",
      "사진에서 사람은 무엇을하고 있습니까?/사진에서 사업가는 무엇을하고 있습니까? = 0.6029748160380572\n",
      "복장은 어떤 나라에서 찍은것 같습니까?/복장으로 판단하면 라틴 아메리카 국가에서 찍은 것입니까? = 0.0\n",
      "이 사진은 흑백인가요?/이 사진에는 어떤 색이 표시됩니까? = 0.0\n",
      "이 남자의 몸에는 몇 개의 문신이 보이나요?/이 남자의 몸에는 몇 개의 문신이 보일 수 있습니까? = 0.5803329846765686\n",
      "남자의 모자가 얼굴을 충분히 가리고 있습니까?/남자의 바이저가 얼굴을 충분히 보호하고 있습니까? = 0.5031026124151314\n",
      "베개는 무슨색 입니까?/베개에 무엇입니까? = 0.0\n",
      "벽은 밝은 색으로되어 있습니까?/벽은 여름 색으로되어 있습니까? = 0.6029748160380572\n",
      "벤치에 있는 것은 무엇입니까?/벤치에 앉아있는 것은 무엇입니까? = 0.6029748160380572\n",
      "이 사진에는  몇 명이 있습니까?/이 이미지에 몇 명이 있습니까? = 0.5031026124151314\n",
      "저 남자는 무엇을 하고 있습니까?/저 남자는 무엇을하는거야? = 0.22028815056182974\n",
      "하늘은 무슨 색 입니까?/하늘은 무엇입니까? = 0.26055567105626243\n",
      "그는 무엇을 착용했습니까?/착용자는 무엇입니까? = 0.0\n",
      "누군가 눈밭에 짐을 잃어버렸습니까?/누군가 눈 속에서 짐을 잊었습니까? = 0.3360969272762575\n",
      "그의 옷은 무슨 색입니까?/그의 코트는 무슨 색입니까? = 0.6029748160380572\n",
      "개가 옷을 입고 있습니까?/개가 옷깃을 입고 있습니까? = 0.6029748160380572\n",
      "물 위에 무엇입니까?/물에 무엇입니까? = 0.33609692727625756\n",
      "사진의 오른쪽 아래에서 TV에 어떤 대상을 볼 수 있습니까?/사진의 오른쪽 아래에서 TV에 어떤 반려 동물의 대상을 볼 수 있습니까? = 0.7995189954301455\n",
      "무엇이 있습니까?/디스플레이에 무엇입니까? = 0.0\n",
      "모니터입니까, 스크린입니까?/모니터입니까, 스크린 투사입니까? = 0.26055567105626243\n",
      "TV 화면에 무엇이 보입니까?/TV 화면에 무엇입니까? = 0.4112070550676187\n",
      "이 동물은 포유류입니까?/동물이 포유류입니까? = 0.33609692727625756\n",
      "이것은 무엇입니까?/이게 뭐야? = 0.0\n",
      "양의 털이 면도 되었습니까?/양이 최근에 면도 되었습니까? = 0.3360969272762575\n",
      "남자는 손에 무엇을 가지고 있습니까?/남자는 그의 얼굴에 무엇을 가지고 있습니까? = 0.5803329846765686\n",
      "기린 앞에 무엇이 있습니까?/기린 앞에 무엇입니까? = 0.4112070550676187\n",
      "동물들이 무엇을 먹고 있습니까?/동물들이 먹고 있습니까? = 0.7765145304745156\n",
      "기린은 무엇을 하고 있습니까?/기린은 무엇입니까? = 0.22028815056182974\n",
      "기린이 나무잎을 먹고 있습니까?/기린이 나무를 먹고 있습니까? = 0.6029748160380572\n",
      "오른쪽의 기린 옆에 있는 동물은 무엇입니까?/오른쪽의 기린 옆에있는 땅은 무엇입니까? = 0.38087260847594373\n",
      "어떤 동물이 먹이를 먹고 있습니까?/먹는 동물이 있습니까? = 0.3563004293331381\n",
      "이 기린은 동물원에 살고 있습니까?/이 기린은 자유 범위에 살고 있습니까? = 0.5101490193104813\n",
      "기린은 몇 마리입니까?/기린은 몇 개입니까? = 0.33609692727625756\n",
      "남자는 길거리에서 무엇을하고있나요?/남자는 왜 길거리에 있습니까? = 0.20199309249791836\n",
      "창의 왼쪽 상단에있는 단어는 한글로 무슨뜻입니까?/창의 왼쪽 상단에있는 단어는 영어로 무엇을 번역합니까? = 0.45026814465562653\n",
      "에어컨은 어디에 있습니까?/두 개의 블루 쿨러는 어디에 있습니까? = 0.3563004293331381\n",
      "그 것들은 움직이고 있습니까?/그들은 움직이고 있습니까? = 0.5031026124151314\n",
      "이 남자는 어떤표정을 짓고 있습니까?/이 남자는 화났어? = 0.22028815056182974\n",
      "꽃병은 무슨 색입니까?/꽃병이 무엇입니까? = 0.0\n",
      "태양은 꽃의 오른쪽 또는 왼쪽에 있습니까?/태양이이 꽃의 오른쪽 또는 왼쪽에 있습니까? = 0.7168117414430619\n",
      "꽃이 피어 있습니까?/꽃이 열려 있습니까? = 0.5031026124151314\n",
      "신사 양말의색이 신발과 벨트와 일치합니까?/신사 양말이 신발과 벨트와 일치합니까? = 0.6694188517266485\n",
      "이 동물은 말입니까?/이 말입니까? = 0.5797386715376658\n",
      "그들은 와인을 마시고 있습니까?/그들은 아이들의 파티에서 와인을 마시는가? = 0.29121941856368966\n",
      "이 과일은 무엇입니까?/과일은 무엇입니까? = 1.0000000000000002\n",
      "이 것은 좋은 디저트입니까?/이것은 좋은 디저트입니까? = 0.5031026124151314\n",
      "이 음식을 만드는 사람의 이름은 무엇입니까?/이 음식을 만들 사람의 이름은 무엇입니까? = 0.6694188517266485\n"
     ]
    }
   ],
   "source": [
    "kkma = Kkma()\n",
    "tfidf_vectorizer = TfidfVectorizer()\n",
    "\n",
    "for idx, rows in df_list.iterrows():\n",
    "    doc_list = [rows.kor, rows.org_kor]\n",
    "#     nouns_list = []    \n",
    "#     for doc in doc_list:\n",
    "#         nouns_list.append(' '.join(kkma.nouns(doc)))    \n",
    "#     if nouns_list[0] == '' or nouns_list[1] == '' or nouns_list[0] == nouns_list[1]:\n",
    "#         continue\n",
    "    tfidf_matrix = tfidf_vectorizer.fit_transform(doc_list)\n",
    "    result = cosine_similarity(tfidf_matrix[0:1], tfidf_matrix[1:2])\n",
    "    print(rows.kor + '/' + rows.org_kor + \" = \" + str(result[0][0]))\n",
    "    if idx == 50:\n",
    "        break\n",
    "\n",
    "\n",
    "\n",
    "    "
   ]
  },
  {
   "cell_type": "code",
   "execution_count": 66,
   "metadata": {},
   "outputs": [
    {
     "data": {
      "text/plain": [
       "['날씨', '날씨']"
      ]
     },
     "execution_count": 66,
     "metadata": {},
     "output_type": "execute_result"
    }
   ],
   "source": [
    "nouns_list"
   ]
  },
  {
   "cell_type": "code",
   "execution_count": 67,
   "metadata": {},
   "outputs": [
    {
     "data": {
      "text/plain": [
       "array([[1.]])"
      ]
     },
     "execution_count": 67,
     "metadata": {},
     "output_type": "execute_result"
    }
   ],
   "source": []
  }
 ],
 "metadata": {
  "kernelspec": {
   "display_name": "Python 3",
   "language": "python",
   "name": "python3"
  },
  "language_info": {
   "codemirror_mode": {
    "name": "ipython",
    "version": 3
   },
   "file_extension": ".py",
   "mimetype": "text/x-python",
   "name": "python",
   "nbconvert_exporter": "python",
   "pygments_lexer": "ipython3",
   "version": "3.8.3"
  }
 },
 "nbformat": 4,
 "nbformat_minor": 4
}
